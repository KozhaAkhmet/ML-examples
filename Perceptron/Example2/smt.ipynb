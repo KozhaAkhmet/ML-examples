{
 "cells": [
  {
   "cell_type": "code",
   "execution_count": 1,
   "metadata": {},
   "outputs": [],
   "source": [
    "#From https://www.youtube.com/watch?v=kft1AJ9WVDk\n",
    "\n",
    "import numpy as np\n",
    "\n",
    "def sigmoid(x):\n",
    "    return 1 / (1 + np.exp(-x))\n",
    "\n",
    "def sigmoid_der(x):\n",
    "    return x * (1 - x)\n"
   ]
  },
  {
   "cell_type": "code",
   "execution_count": 13,
   "metadata": {},
   "outputs": [],
   "source": [
    "def Relu_der(x):\n",
    "    return x > 0\n",
    "\n",
    "def Relu(x):\n",
    "    return np.maximum(0, x)\n",
    "# def activation_der(x):\n",
    "#     return "
   ]
  },
  {
   "cell_type": "code",
   "execution_count": 47,
   "metadata": {},
   "outputs": [
    {
     "name": "stdout",
     "output_type": "stream",
     "text": [
      "Random starting synaptic weights: \n",
      "[[-0.16595599]\n",
      " [ 0.44064899]\n",
      " [-0.99977125]]\n"
     ]
    }
   ],
   "source": [
    "\n",
    "training_inputs = np.array([[0, 0, 1],\n",
    "                            [1, 1, 1],\n",
    "                            [1, 0, 1],\n",
    "                            [0, 1, 1]])\n",
    "\n",
    "training_outputs = np.array([[0, 1, 1, 0]]).T\n",
    "\n",
    "np.random.seed(1)\n",
    "\n",
    "synaptic_wights = 2 * np.random.random((3, 1)) - 1\n",
    "\n",
    "print(\"Random starting synaptic weights: \")\n",
    "print(synaptic_wights)\n"
   ]
  },
  {
   "cell_type": "code",
   "execution_count": 48,
   "metadata": {},
   "outputs": [
    {
     "name": "stdout",
     "output_type": "stream",
     "text": [
      "Synaptic wights after training\n",
      "[[ 4.22799474]\n",
      " [-0.2190645 ]\n",
      " [-1.79660228]]\n",
      "Outputs after training: \n",
      "[[0.15317277]\n",
      " [0.89339457]\n",
      " [0.91069531]\n",
      " [0.12940941]]\n",
      "Rounded Outputs\n",
      "[[0.]\n",
      " [1.]\n",
      " [1.]\n",
      " [0.]]\n"
     ]
    }
   ],
   "source": [
    "\n",
    "for iteration in range(10):\n",
    "    input_layer = training_inputs\n",
    "\n",
    "    outputs = sigmoid(np.dot(input_layer, synaptic_wights))\n",
    "    # print(outputs)\n",
    "\n",
    "    # Second part \n",
    "    error = training_outputs - outputs\n",
    "\n",
    "    adjustments = error * sigmoid_der(outputs)\n",
    "\n",
    "    synaptic_wights += np.dot(input_layer.T, adjustments)\n",
    "    # synaptic_wights += error * input_layer.T\n",
    "\n",
    "\n",
    "print(\"Synaptic wights after training\")\n",
    "print(synaptic_wights)\n",
    "\n",
    "print(\"Outputs after training: \")\n",
    "print(outputs)\n",
    "\n",
    "print(\"Rounded Outputs\")\n",
    "print(np.round(outputs))\n"
   ]
  }
 ],
 "metadata": {
  "kernelspec": {
   "display_name": "Python 3",
   "language": "python",
   "name": "python3"
  },
  "language_info": {
   "codemirror_mode": {
    "name": "ipython",
    "version": 3
   },
   "file_extension": ".py",
   "mimetype": "text/x-python",
   "name": "python",
   "nbconvert_exporter": "python",
   "pygments_lexer": "ipython3",
   "version": "3.10.7"
  },
  "orig_nbformat": 4
 },
 "nbformat": 4,
 "nbformat_minor": 2
}
