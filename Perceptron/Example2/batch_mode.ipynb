{
 "cells": [
  {
   "cell_type": "code",
   "execution_count": null,
   "metadata": {},
   "outputs": [],
   "source": [
    "import numpy as np\n",
    "\n",
    "def sigmoid(x):\n",
    "    return 1 / (1 + np.exp(-x))\n",
    "\n",
    "def sigmoid_der(x):\n",
    "    return x * (1 - x)\n",
    "\n",
    "training_inputs = np.array([[0, 0, 1],\n",
    "                            [1, 1, 1],\n",
    "                            [1, 0, 1],\n",
    "                            [0, 1, 1]])\n",
    "\n",
    "training_outputs = np.array([[0, 1, 1, 0]]).T\n",
    "\n",
    "np.random.seed(1)\n",
    "\n",
    "synaptic_weights = 2 * np.random.random((3, 1)) - 1\n",
    "\n",
    "print(\"Random starting synaptic weights: \")\n",
    "print(synaptic_weights)\n",
    "\n",
    "for iteration in range(60000):\n",
    "    # Calculate outputs for entire input array\n",
    "    outputs = sigmoid(np.dot(training_inputs, synaptic_weights))\n",
    "\n",
    "    # Calculate error for entire output array\n",
    "    error = training_outputs - outputs\n",
    "\n",
    "    # Calculate adjustments for entire input array\n",
    "    adjustments = error * sigmoid_der(outputs)\n",
    "\n",
    "    # Calculate weight changes for entire input array\n",
    "    weight_changes = np.dot(training_inputs.T, adjustments)\n",
    "\n",
    "    # Update synaptic weights using batch gradient descent\n",
    "    synaptic_weights += weight_changes\n",
    "\n",
    "print(\"Synaptic weights after training\")\n",
    "print(synaptic_weights)\n",
    "\n",
    "# Calculate outputs for entire input array after training\n",
    "outputs = sigmoid(np.dot(training_inputs, synaptic_weights))\n",
    "\n",
    "print(\"Outputs after training: \")\n",
    "print(outputs)\n"
   ]
  }
 ],
 "metadata": {
  "language_info": {
   "name": "python"
  },
  "orig_nbformat": 4
 },
 "nbformat": 4,
 "nbformat_minor": 2
}
